{
 "cells": [
  {
   "cell_type": "code",
   "execution_count": 1,
   "id": "fc1b15a1",
   "metadata": {},
   "outputs": [],
   "source": [
    "from selenium import webdriver\n",
    "from selenium.webdriver.chrome.service import Service\n",
    "from selenium.webdriver.common.by import By\n",
    "from selenium.webdriver.support.ui import WebDriverWait\n",
    "from selenium.webdriver.support import expected_conditions as EC\n",
    "import time\n",
    "import csv\n",
    "import pandas as pd\n",
    "import numpy as np"
   ]
  },
  {
   "cell_type": "code",
   "execution_count": 24,
   "id": "54403cde",
   "metadata": {},
   "outputs": [
    {
     "data": {
      "text/html": [
       "<div>\n",
       "<style scoped>\n",
       "    .dataframe tbody tr th:only-of-type {\n",
       "        vertical-align: middle;\n",
       "    }\n",
       "\n",
       "    .dataframe tbody tr th {\n",
       "        vertical-align: top;\n",
       "    }\n",
       "\n",
       "    .dataframe thead th {\n",
       "        text-align: right;\n",
       "    }\n",
       "</style>\n",
       "<table border=\"1\" class=\"dataframe\">\n",
       "  <thead>\n",
       "    <tr style=\"text-align: right;\">\n",
       "      <th></th>\n",
       "      <th>Brand</th>\n",
       "      <th>Vehicle</th>\n",
       "      <th>Market</th>\n",
       "      <th>Chassi_model</th>\n",
       "      <th>Model</th>\n",
       "      <th>Engine</th>\n",
       "      <th>Engine_code</th>\n",
       "      <th>Prod period</th>\n",
       "      <th>Body</th>\n",
       "      <th>Body_code</th>\n",
       "      <th>Grade</th>\n",
       "      <th>Grade_code</th>\n",
       "      <th>Transm</th>\n",
       "      <th>Transm_code</th>\n",
       "      <th>Options</th>\n",
       "    </tr>\n",
       "  </thead>\n",
       "  <tbody>\n",
       "  </tbody>\n",
       "</table>\n",
       "</div>"
      ],
      "text/plain": [
       "Empty DataFrame\n",
       "Columns: [Brand, Vehicle, Market, Chassi_model, Model, Engine, Engine_code, Prod period, Body, Body_code, Grade, Grade_code, Transm, Transm_code, Options]\n",
       "Index: []"
      ]
     },
     "execution_count": 24,
     "metadata": {},
     "output_type": "execute_result"
    }
   ],
   "source": [
    "df = pd.DataFrame(columns=[\"Brand\", \"Vehicle\", \"Market\", \"Chassi_model\", \"Model\", \"Engine\", \"Engine_code\", \"Prod period\", \"Body\", \"Body_code\", \"Grade\", \"Grade_code\", \"Transm\", \"Transm_code\", \"Options\"])\n",
    "df.head()"
   ]
  },
  {
   "cell_type": "code",
   "execution_count": 21,
   "id": "776db7e6",
   "metadata": {},
   "outputs": [],
   "source": [
    "i = 0\n",
    "for row in df:\n",
    "    i = i + 1\n",
    "    if i > 10:\n",
    "        print('break')\n",
    "        break\n",
    "    \n",
    "    df['id'] = i\n",
    "    df['brand'] = 'Toyota'\n",
    "    df['model'] = 'Allion'\n",
    "    "
   ]
  },
  {
   "cell_type": "code",
   "execution_count": 22,
   "id": "f3c41f10",
   "metadata": {},
   "outputs": [
    {
     "data": {
      "text/html": [
       "<div>\n",
       "<style scoped>\n",
       "    .dataframe tbody tr th:only-of-type {\n",
       "        vertical-align: middle;\n",
       "    }\n",
       "\n",
       "    .dataframe tbody tr th {\n",
       "        vertical-align: top;\n",
       "    }\n",
       "\n",
       "    .dataframe thead th {\n",
       "        text-align: right;\n",
       "    }\n",
       "</style>\n",
       "<table border=\"1\" class=\"dataframe\">\n",
       "  <thead>\n",
       "    <tr style=\"text-align: right;\">\n",
       "      <th></th>\n",
       "      <th>id</th>\n",
       "      <th>brand</th>\n",
       "      <th>model</th>\n",
       "    </tr>\n",
       "  </thead>\n",
       "  <tbody>\n",
       "  </tbody>\n",
       "</table>\n",
       "</div>"
      ],
      "text/plain": [
       "Empty DataFrame\n",
       "Columns: [id, brand, model]\n",
       "Index: []"
      ]
     },
     "execution_count": 22,
     "metadata": {},
     "output_type": "execute_result"
    }
   ],
   "source": [
    "df.head()"
   ]
  },
  {
   "cell_type": "code",
   "execution_count": 2,
   "id": "794f6deb",
   "metadata": {},
   "outputs": [],
   "source": [
    "vehicle_names = []"
   ]
  },
  {
   "cell_type": "code",
   "execution_count": 11,
   "id": "457d689f",
   "metadata": {},
   "outputs": [],
   "source": [
    "service = Service(executable_path=\"chromedriver.exe\")\n",
    "driver = webdriver.Chrome(service=service)\n",
    "\n",
    "def get_vehicle_list():\n",
    "    try:\n",
    "        main_div_element = WebDriverWait(driver, 10).until(\n",
    "            EC.presence_of_element_located((By.XPATH, '/html/body/div[2]/div/div/div/div[2]'))\n",
    "        )\n",
    "\n",
    "        div_elements = main_div_element.find_elements(By.TAG_NAME, \"div\")\n",
    "\n",
    "        for div_element in div_elements:\n",
    "            a_elements = div_element.find_elements(By.TAG_NAME, \"a\")\n",
    "\n",
    "            for a_element in a_elements:\n",
    "                \n",
    "                # vehicle name\n",
    "                vehicle_name = a_element.text\n",
    "                \n",
    "                a_element.click()\n",
    "                \n",
    "                markets_div_element = WebDriverWait(driver, 10).until(\n",
    "                    EC.presence_of_element_located((By.XPATH, '/html/body/div[2]/div/div/div/div[2]'))\n",
    "                )\n",
    "                \n",
    "                markets = markets_div_element.find_elements(By.TAG_NAME, \"div\")\n",
    "                \n",
    "                for market in markets:\n",
    "                    market_tag = market.find_element(By.CLASS_NAME, \"market__title\")\n",
    "                    \n",
    "                    # market name\n",
    "                    market_name = market_tag.text\n",
    "                    \n",
    "                    chassi_models_tag = market.find_elements(By.TAG_NAME, \"a\")\n",
    "                    \n",
    "                    for a1_element in chassi_models_tag:\n",
    "                        chassi_model_name = a1_element.text\n",
    "                        \n",
    "                        a1_element.click()\n",
    "                        \n",
    "                        table_element = WebDriverWait(driver, 10).until(\n",
    "                            EC.presence_of_element_located((By.XPATH, '/html/body/div[2]/div/div[2]/table/tbody'))\n",
    "                        )\n",
    "                        \n",
    "                        table_rows = table_element.find_elements(By.CLASS_NAME, \"epcVariations__row\")\n",
    "                        \n",
    "                        for table_row in table_rows:\n",
    "                            \n",
    "                            table_data = table_row.find_elements(By.TAG_NAME, \"td\")\n",
    "                            \n",
    "                            for value in table_data:\n",
    "                                \n",
    "                                \n",
    "                                model_tag = value[0].find_element(By.TAG_NAME, \"a\")\n",
    "                                \n",
    "                                # model name\n",
    "                                model_name = model_tag.text\n",
    "                                \n",
    "                                engine_tag = value[1].find_element(By.TAG_NAME, \"span\")\n",
    "                                \n",
    "                                # engine name\n",
    "                                engine_name = engine_tag.text\n",
    "                                engine_name_code = engine_tag.get_attribute('data-content')\n",
    "                    \n",
    "    \n",
    "                                # prod  period name\n",
    "                                prod_period_name = value[2].text\n",
    "                                \n",
    "                                \n",
    "                                body_tag = value[3].find_element(By.TAG_NAME, \"span\")\n",
    "                        \n",
    "                                # body name\n",
    "                                body_name = body_tag.text\n",
    "                                body_name_code = body_tag.get_attribute('data-content')\n",
    "                                \n",
    "                                grade_tag = value[4].find_element(By.TAG_NAME, \"span\")\n",
    "                                \n",
    "                                # grade name\n",
    "                                grade_name = grade_tag.text\n",
    "                                grade_name_code = grade_tag.get_attribute('data-content')\n",
    "                                \n",
    "                                transmission_tag = value[5].find_element(By.TAG_NAME, \"span\")\n",
    "                                \n",
    "                                # trans name\n",
    "                                transm_name = transmission_tag.text\n",
    "                                transm_name_code = transmission_tag.get_attribute('data-content')\n",
    "                                \n",
    "                                \n",
    "                                # options\n",
    "                                \n",
    "                                options = value[6].find_elements(By.TAG_NAME, \"span\")\n",
    "                                \n",
    "                                option_names = {}\n",
    "                                \n",
    "                                for option in options:\n",
    "                                    value = option.find_element(By.TAG_NAME, \"span\")\n",
    "                                    key = value.text\n",
    "                                    val = value.get_attribute('data-content')\n",
    "                                    \n",
    "                                    option_names[value.text] = val\n",
    "                                    \n",
    "                                \n",
    "                                \n",
    "                                new_row = {\n",
    "                                    \"Brand\": Brand,\n",
    "                                    \"Vehicle\": vehicle_name,\n",
    "                                    \"Market\": market_name,\n",
    "                                    \"Chassi_model\": chassi_model_name,\n",
    "                                    \"Model\": model_name,\n",
    "                                    \"Engine\": engine_name,\n",
    "                                    \"Engine_code\": engine_name_code,\n",
    "                                    \"Prod period\": prod_period_name,\n",
    "                                    \"Body\": body_name,\n",
    "                                    \"Body_code\": body_name_code,\n",
    "                                    \"Grade\": grade_name,\n",
    "                                    \"Grade_code\": grade_name_code,\n",
    "                                    \"Transm\": transm_name,\n",
    "                                    \"Transm_code\": transm_name_code,\n",
    "                                    \"Options\": option_names                                \n",
    "                                }\n",
    "                    \n",
    "                    \n",
    "                \n",
    "                \n",
    "                driver.back()\n",
    "                \n",
    "                make = a_element.text\n",
    "                vehicle_names.append(make)\n",
    "                \n",
    "            time.sleep(1)\n",
    "        \n",
    "        return vehicle_names\n",
    "\n",
    "    except Exception as e:\n",
    "        print(e)\n",
    "        return vehicle_names"
   ]
  },
  {
   "cell_type": "code",
   "execution_count": 12,
   "id": "b9b73708",
   "metadata": {},
   "outputs": [
    {
     "name": "stdout",
     "output_type": "stream",
     "text": [
      "USA:\n",
      "Japan:\n",
      "Japan:\n",
      "Japan:\n",
      "Japan:\n",
      "Japan:\n",
      "Japan:\n",
      "Japan:\n",
      "Message: no such window: target window already closed\n",
      "from unknown error: web view not found\n",
      "  (Session info: chrome=126.0.6478.127)\n",
      "Stacktrace:\n",
      "\tGetHandleVerifier [0x00007FF6DE5F1F52+60322]\n",
      "\t(No symbol) [0x00007FF6DE56CEC9]\n",
      "\t(No symbol) [0x00007FF6DE427EBA]\n",
      "\t(No symbol) [0x00007FF6DE3FD5A5]\n",
      "\t(No symbol) [0x00007FF6DE4A36B7]\n",
      "\t(No symbol) [0x00007FF6DE4BB331]\n",
      "\t(No symbol) [0x00007FF6DE49BFC3]\n",
      "\t(No symbol) [0x00007FF6DE469617]\n",
      "\t(No symbol) [0x00007FF6DE46A211]\n",
      "\tGetHandleVerifier [0x00007FF6DE9094AD+3301629]\n",
      "\tGetHandleVerifier [0x00007FF6DE9536D3+3605283]\n",
      "\tGetHandleVerifier [0x00007FF6DE949450+3563680]\n",
      "\tGetHandleVerifier [0x00007FF6DE6A4326+790390]\n",
      "\t(No symbol) [0x00007FF6DE57750F]\n",
      "\t(No symbol) [0x00007FF6DE573404]\n",
      "\t(No symbol) [0x00007FF6DE573592]\n",
      "\t(No symbol) [0x00007FF6DE562F9F]\n",
      "\tBaseThreadInitThunk [0x00007FF8FA777344+20]\n",
      "\tRtlUserThreadStart [0x00007FF8FAB5CC91+33]\n",
      "\n"
     ]
    }
   ],
   "source": [
    "driver.get(\"https://www.amayama.com/en/catalogs/toyota\")\n",
    "\n",
    "vehicle_list = get_vehicle_list()\n",
    "time.sleep(2)\n",
    "driver.quit()"
   ]
  },
  {
   "cell_type": "code",
   "execution_count": 14,
   "id": "9ea9056f",
   "metadata": {},
   "outputs": [
    {
     "ename": "EmptyDataError",
     "evalue": "No columns to parse from file",
     "output_type": "error",
     "traceback": [
      "\u001b[1;31m---------------------------------------------------------------------------\u001b[0m",
      "\u001b[1;31mEmptyDataError\u001b[0m                            Traceback (most recent call last)",
      "Cell \u001b[1;32mIn[14], line 1\u001b[0m\n\u001b[1;32m----> 1\u001b[0m df \u001b[38;5;241m=\u001b[39m \u001b[43mpd\u001b[49m\u001b[38;5;241;43m.\u001b[39;49m\u001b[43mread_csv\u001b[49m\u001b[43m(\u001b[49m\u001b[38;5;124;43m\"\u001b[39;49m\u001b[38;5;124;43mvehicle_details.csv\u001b[39;49m\u001b[38;5;124;43m\"\u001b[39;49m\u001b[43m)\u001b[49m\n\u001b[0;32m      2\u001b[0m df\u001b[38;5;241m.\u001b[39mhead()\n",
      "File \u001b[1;32m~\\AppData\\Roaming\\Python\\Python310\\site-packages\\pandas\\util\\_decorators.py:211\u001b[0m, in \u001b[0;36mdeprecate_kwarg.<locals>._deprecate_kwarg.<locals>.wrapper\u001b[1;34m(*args, **kwargs)\u001b[0m\n\u001b[0;32m    209\u001b[0m     \u001b[38;5;28;01melse\u001b[39;00m:\n\u001b[0;32m    210\u001b[0m         kwargs[new_arg_name] \u001b[38;5;241m=\u001b[39m new_arg_value\n\u001b[1;32m--> 211\u001b[0m \u001b[38;5;28;01mreturn\u001b[39;00m func(\u001b[38;5;241m*\u001b[39margs, \u001b[38;5;241m*\u001b[39m\u001b[38;5;241m*\u001b[39mkwargs)\n",
      "File \u001b[1;32m~\\AppData\\Roaming\\Python\\Python310\\site-packages\\pandas\\util\\_decorators.py:331\u001b[0m, in \u001b[0;36mdeprecate_nonkeyword_arguments.<locals>.decorate.<locals>.wrapper\u001b[1;34m(*args, **kwargs)\u001b[0m\n\u001b[0;32m    325\u001b[0m \u001b[38;5;28;01mif\u001b[39;00m \u001b[38;5;28mlen\u001b[39m(args) \u001b[38;5;241m>\u001b[39m num_allow_args:\n\u001b[0;32m    326\u001b[0m     warnings\u001b[38;5;241m.\u001b[39mwarn(\n\u001b[0;32m    327\u001b[0m         msg\u001b[38;5;241m.\u001b[39mformat(arguments\u001b[38;5;241m=\u001b[39m_format_argument_list(allow_args)),\n\u001b[0;32m    328\u001b[0m         \u001b[38;5;167;01mFutureWarning\u001b[39;00m,\n\u001b[0;32m    329\u001b[0m         stacklevel\u001b[38;5;241m=\u001b[39mfind_stack_level(),\n\u001b[0;32m    330\u001b[0m     )\n\u001b[1;32m--> 331\u001b[0m \u001b[38;5;28;01mreturn\u001b[39;00m func(\u001b[38;5;241m*\u001b[39margs, \u001b[38;5;241m*\u001b[39m\u001b[38;5;241m*\u001b[39mkwargs)\n",
      "File \u001b[1;32m~\\AppData\\Roaming\\Python\\Python310\\site-packages\\pandas\\io\\parsers\\readers.py:950\u001b[0m, in \u001b[0;36mread_csv\u001b[1;34m(filepath_or_buffer, sep, delimiter, header, names, index_col, usecols, squeeze, prefix, mangle_dupe_cols, dtype, engine, converters, true_values, false_values, skipinitialspace, skiprows, skipfooter, nrows, na_values, keep_default_na, na_filter, verbose, skip_blank_lines, parse_dates, infer_datetime_format, keep_date_col, date_parser, dayfirst, cache_dates, iterator, chunksize, compression, thousands, decimal, lineterminator, quotechar, quoting, doublequote, escapechar, comment, encoding, encoding_errors, dialect, error_bad_lines, warn_bad_lines, on_bad_lines, delim_whitespace, low_memory, memory_map, float_precision, storage_options)\u001b[0m\n\u001b[0;32m    935\u001b[0m kwds_defaults \u001b[38;5;241m=\u001b[39m _refine_defaults_read(\n\u001b[0;32m    936\u001b[0m     dialect,\n\u001b[0;32m    937\u001b[0m     delimiter,\n\u001b[1;32m   (...)\u001b[0m\n\u001b[0;32m    946\u001b[0m     defaults\u001b[38;5;241m=\u001b[39m{\u001b[38;5;124m\"\u001b[39m\u001b[38;5;124mdelimiter\u001b[39m\u001b[38;5;124m\"\u001b[39m: \u001b[38;5;124m\"\u001b[39m\u001b[38;5;124m,\u001b[39m\u001b[38;5;124m\"\u001b[39m},\n\u001b[0;32m    947\u001b[0m )\n\u001b[0;32m    948\u001b[0m kwds\u001b[38;5;241m.\u001b[39mupdate(kwds_defaults)\n\u001b[1;32m--> 950\u001b[0m \u001b[38;5;28;01mreturn\u001b[39;00m \u001b[43m_read\u001b[49m\u001b[43m(\u001b[49m\u001b[43mfilepath_or_buffer\u001b[49m\u001b[43m,\u001b[49m\u001b[43m \u001b[49m\u001b[43mkwds\u001b[49m\u001b[43m)\u001b[49m\n",
      "File \u001b[1;32m~\\AppData\\Roaming\\Python\\Python310\\site-packages\\pandas\\io\\parsers\\readers.py:605\u001b[0m, in \u001b[0;36m_read\u001b[1;34m(filepath_or_buffer, kwds)\u001b[0m\n\u001b[0;32m    602\u001b[0m _validate_names(kwds\u001b[38;5;241m.\u001b[39mget(\u001b[38;5;124m\"\u001b[39m\u001b[38;5;124mnames\u001b[39m\u001b[38;5;124m\"\u001b[39m, \u001b[38;5;28;01mNone\u001b[39;00m))\n\u001b[0;32m    604\u001b[0m \u001b[38;5;66;03m# Create the parser.\u001b[39;00m\n\u001b[1;32m--> 605\u001b[0m parser \u001b[38;5;241m=\u001b[39m TextFileReader(filepath_or_buffer, \u001b[38;5;241m*\u001b[39m\u001b[38;5;241m*\u001b[39mkwds)\n\u001b[0;32m    607\u001b[0m \u001b[38;5;28;01mif\u001b[39;00m chunksize \u001b[38;5;129;01mor\u001b[39;00m iterator:\n\u001b[0;32m    608\u001b[0m     \u001b[38;5;28;01mreturn\u001b[39;00m parser\n",
      "File \u001b[1;32m~\\AppData\\Roaming\\Python\\Python310\\site-packages\\pandas\\io\\parsers\\readers.py:1442\u001b[0m, in \u001b[0;36mTextFileReader.__init__\u001b[1;34m(self, f, engine, **kwds)\u001b[0m\n\u001b[0;32m   1439\u001b[0m     \u001b[38;5;28mself\u001b[39m\u001b[38;5;241m.\u001b[39moptions[\u001b[38;5;124m\"\u001b[39m\u001b[38;5;124mhas_index_names\u001b[39m\u001b[38;5;124m\"\u001b[39m] \u001b[38;5;241m=\u001b[39m kwds[\u001b[38;5;124m\"\u001b[39m\u001b[38;5;124mhas_index_names\u001b[39m\u001b[38;5;124m\"\u001b[39m]\n\u001b[0;32m   1441\u001b[0m \u001b[38;5;28mself\u001b[39m\u001b[38;5;241m.\u001b[39mhandles: IOHandles \u001b[38;5;241m|\u001b[39m \u001b[38;5;28;01mNone\u001b[39;00m \u001b[38;5;241m=\u001b[39m \u001b[38;5;28;01mNone\u001b[39;00m\n\u001b[1;32m-> 1442\u001b[0m \u001b[38;5;28mself\u001b[39m\u001b[38;5;241m.\u001b[39m_engine \u001b[38;5;241m=\u001b[39m \u001b[38;5;28;43mself\u001b[39;49m\u001b[38;5;241;43m.\u001b[39;49m\u001b[43m_make_engine\u001b[49m\u001b[43m(\u001b[49m\u001b[43mf\u001b[49m\u001b[43m,\u001b[49m\u001b[43m \u001b[49m\u001b[38;5;28;43mself\u001b[39;49m\u001b[38;5;241;43m.\u001b[39;49m\u001b[43mengine\u001b[49m\u001b[43m)\u001b[49m\n",
      "File \u001b[1;32m~\\AppData\\Roaming\\Python\\Python310\\site-packages\\pandas\\io\\parsers\\readers.py:1753\u001b[0m, in \u001b[0;36mTextFileReader._make_engine\u001b[1;34m(self, f, engine)\u001b[0m\n\u001b[0;32m   1750\u001b[0m     \u001b[38;5;28;01mraise\u001b[39;00m \u001b[38;5;167;01mValueError\u001b[39;00m(msg)\n\u001b[0;32m   1752\u001b[0m \u001b[38;5;28;01mtry\u001b[39;00m:\n\u001b[1;32m-> 1753\u001b[0m     \u001b[38;5;28;01mreturn\u001b[39;00m mapping[engine](f, \u001b[38;5;241m*\u001b[39m\u001b[38;5;241m*\u001b[39m\u001b[38;5;28mself\u001b[39m\u001b[38;5;241m.\u001b[39moptions)\n\u001b[0;32m   1754\u001b[0m \u001b[38;5;28;01mexcept\u001b[39;00m \u001b[38;5;167;01mException\u001b[39;00m:\n\u001b[0;32m   1755\u001b[0m     \u001b[38;5;28;01mif\u001b[39;00m \u001b[38;5;28mself\u001b[39m\u001b[38;5;241m.\u001b[39mhandles \u001b[38;5;129;01mis\u001b[39;00m \u001b[38;5;129;01mnot\u001b[39;00m \u001b[38;5;28;01mNone\u001b[39;00m:\n",
      "File \u001b[1;32m~\\AppData\\Roaming\\Python\\Python310\\site-packages\\pandas\\io\\parsers\\c_parser_wrapper.py:79\u001b[0m, in \u001b[0;36mCParserWrapper.__init__\u001b[1;34m(self, src, **kwds)\u001b[0m\n\u001b[0;32m     76\u001b[0m     kwds\u001b[38;5;241m.\u001b[39mpop(key, \u001b[38;5;28;01mNone\u001b[39;00m)\n\u001b[0;32m     78\u001b[0m kwds[\u001b[38;5;124m\"\u001b[39m\u001b[38;5;124mdtype\u001b[39m\u001b[38;5;124m\"\u001b[39m] \u001b[38;5;241m=\u001b[39m ensure_dtype_objs(kwds\u001b[38;5;241m.\u001b[39mget(\u001b[38;5;124m\"\u001b[39m\u001b[38;5;124mdtype\u001b[39m\u001b[38;5;124m\"\u001b[39m, \u001b[38;5;28;01mNone\u001b[39;00m))\n\u001b[1;32m---> 79\u001b[0m \u001b[38;5;28mself\u001b[39m\u001b[38;5;241m.\u001b[39m_reader \u001b[38;5;241m=\u001b[39m parsers\u001b[38;5;241m.\u001b[39mTextReader(src, \u001b[38;5;241m*\u001b[39m\u001b[38;5;241m*\u001b[39mkwds)\n\u001b[0;32m     81\u001b[0m \u001b[38;5;28mself\u001b[39m\u001b[38;5;241m.\u001b[39munnamed_cols \u001b[38;5;241m=\u001b[39m \u001b[38;5;28mself\u001b[39m\u001b[38;5;241m.\u001b[39m_reader\u001b[38;5;241m.\u001b[39munnamed_cols\n\u001b[0;32m     83\u001b[0m \u001b[38;5;66;03m# error: Cannot determine type of 'names'\u001b[39;00m\n",
      "File \u001b[1;32m~\\AppData\\Roaming\\Python\\Python310\\site-packages\\pandas\\_libs\\parsers.pyx:554\u001b[0m, in \u001b[0;36mpandas._libs.parsers.TextReader.__cinit__\u001b[1;34m()\u001b[0m\n",
      "\u001b[1;31mEmptyDataError\u001b[0m: No columns to parse from file"
     ]
    }
   ],
   "source": [
    "df = pd.read_csv(\"vehicle_details.csv\")\n",
    "df.head()"
   ]
  },
  {
   "cell_type": "code",
   "execution_count": 12,
   "id": "53d7aa9e",
   "metadata": {},
   "outputs": [
    {
     "name": "stdout",
     "output_type": "stream",
     "text": [
      "['4Runner', 'Allex', 'Allion', 'Alphard', 'Altezza', 'Aqua', 'Aristo', 'Aurion', 'Auris', 'Avalon', 'Avanza', 'Avensis', 'Avensis Verso', 'Aygo', 'bB', 'Belta', 'Blade', 'Blizzard', 'Brevis', 'bZ3', 'bZ4X', 'C+Walk T', 'C-HR', 'Caldina', 'Cami', 'Camry', 'Camry Gracia', 'Camry Prominent', 'Carina', 'Carina E', 'Carina ED', 'Carina II', 'Celica', 'Celsior', 'Century', 'Chaser', 'Coaster', 'Corolla', 'Corolla Axio', 'Corolla Ceres', 'Corolla Cross', 'Corolla Fielder', 'Corolla FX', 'Corolla II', 'Corolla Levin', 'Corolla Rumion', 'Corolla Runx', 'Corolla Spacio', 'Corolla Verso', 'Corona', 'Corona Exiv', 'Corona Premio', 'Corona SF', 'Corsa', 'Cressida', 'Cresta', 'Crown', 'Crown Majesta', 'Curren', 'Cynos', 'Deliboy', 'Duet', 'Dyna', 'Echo', 'Esquire', 'Estima', 'Estima Emina', 'Estima Lucida', 'Etios', 'FJ Cruiser', 'Fortuner', 'Frontlander', 'Funcargo', 'Gaia', 'Grand Hiace', 'Grand Highlander', 'Granvia', 'GT 86', 'Harrier', 'Harrier Hybrid', 'Hiace', 'Hiace Regius', 'Highlander', 'Hilux Pick Up', 'Hilux Surf', 'Innova', 'Ipsum', 'iQ', 'Isis', 'ist', 'Izoa', 'JPN TAXI', 'Kluger V', 'Land Cruiser', 'Land Cruiser Prado', 'Lite Ace', 'Lite Ace Noah', 'Lite Ace Truck', 'Mark II', 'Mark II Wagon Blit', 'Mark II Wagon Qualis', 'Mark X', 'Mark X Zio', 'Master Ace Surf', 'Matrix', 'Mega Cruiser', 'Mirai', 'MR-S', 'MR2', 'Nadia', 'Noah', 'Opa', 'Origin', 'Paseo', 'Passo', 'Passo Sette', 'Picnic', 'Pixis Epoch', 'Pixis Joy', 'Pixis Mega', 'Pixis Space', 'Pixis Truck', 'Pixis Van', 'Platz', 'Porte', 'Premio', 'Previa', 'Prius', 'Prius a', 'Prius C', 'Prius PHV', 'Prius v', 'Probox', 'Progres', 'Pronard', 'Publica', 'Ractis', 'Raize', 'Raum', 'RAV4', 'Regius', 'Regius Ace', 'Roomy', 'Rush', 'Sai', 'Scepter', 'Sequoia', 'Sera', 'Sienna', 'Sienta', 'Soarer', 'Solara', 'Soluna', 'Spade', 'Sparky', 'Sprinter', 'Sprinter Carib', 'Sprinter Marino', 'Sprinter Trueno', 'Starlet', 'Succeed', 'Supra', 'Tacoma', 'Tank', 'Tercel', 'Touring Hiace', 'Town Ace', 'Town Ace Noah', 'Town Ace Truck', 'ToyoAce', 'Tundra', 'Urban Cruiser', 'Vanguard', 'Vellfire', 'Veloz', 'Venza', 'Verossa', 'Verso', 'Verso-s', 'Vios', 'Vista', 'Vista Ardeo', 'Vitz', 'Voltz', 'Voxy', 'Wigo', 'WiLL Cypha', 'WiLL Vi', 'WiLL VS', 'Windom', 'Wish', 'Yaris']\n"
     ]
    }
   ],
   "source": [
    "print(vehicle_list)"
   ]
  },
  {
   "cell_type": "code",
   "execution_count": null,
   "id": "5f89feb2",
   "metadata": {},
   "outputs": [],
   "source": []
  }
 ],
 "metadata": {
  "kernelspec": {
   "display_name": "Python 3 (ipykernel)",
   "language": "python",
   "name": "python3"
  },
  "language_info": {
   "codemirror_mode": {
    "name": "ipython",
    "version": 3
   },
   "file_extension": ".py",
   "mimetype": "text/x-python",
   "name": "python",
   "nbconvert_exporter": "python",
   "pygments_lexer": "ipython3",
   "version": "3.10.9"
  }
 },
 "nbformat": 4,
 "nbformat_minor": 5
}
